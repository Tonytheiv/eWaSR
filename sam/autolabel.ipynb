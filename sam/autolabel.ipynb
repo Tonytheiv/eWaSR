{
 "cells": [
  {
   "cell_type": "code",
   "execution_count": 1,
   "metadata": {},
   "outputs": [],
   "source": [
    "import autolabel as a\n",
    "from autolabel import Autolabel as Al, CutMix as Cm"
   ]
  },
  {
   "cell_type": "code",
   "execution_count": null,
   "metadata": {},
   "outputs": [],
   "source": [
    "for i in range(31, 34):\n",
    "    i = str(i)\n",
    "    label = Al(checkpoint='/home/tony/Downloads/h.pth', type='vit_h', imgs_dir='/home/tony/Music/train/img' + i, jsons_dir='/home/tony/Music/train/jsn' + i)\n",
    "    num_img = len(label.imgs)\n",
    "    for j in range(num_img):\n",
    "        label.visualizeBinary(j, -3, visualize=False)\n",
    "    for a in range(num_img):\n",
    "        label.outputJsonBinary(a)"
   ]
  },
  {
   "cell_type": "code",
   "execution_count": null,
   "metadata": {},
   "outputs": [],
   "source": [
    "for c in range(1, 2):\n",
    "    c = str(c)\n",
    "    data = Cm(imgs_dir='/home/tony/Videos/img' + c, jsons_dir='/home/tony/Videos/jsn' + c)\n",
    "    data.cutmix(num=100)\n",
    "    a.visualizeAllBinary('/home/tony/Videos/img' + str(c), '/home/tony/Videos/jsn' + str(c), output_dir='/home/tony/Videos/vis' + str(c))\n",
    "    "
   ]
  },
  {
   "cell_type": "code",
   "execution_count": null,
   "metadata": {},
   "outputs": [],
   "source": [
    "for b in range(31, 34):\n",
    "    a.modifyBottom('/home/tony/Music/train/jsn' + str(b), 3)\n",
    "    print(b)\n"
   ]
  },
  {
   "cell_type": "code",
   "execution_count": null,
   "metadata": {},
   "outputs": [],
   "source": [
    "for k in range(31, 34):\n",
    "    a.visualizeAllBinary('/home/tony/Music/train/img' + str(k), '/home/tony/Music/train/jsn' + str(k), output_dir='/home/tony/Music/train/vis' + str(k))\n",
    "    print(k)\n"
   ]
  }
 ],
 "metadata": {
  "kernelspec": {
   "display_name": "sam",
   "language": "python",
   "name": "python3"
  },
  "language_info": {
   "codemirror_mode": {
    "name": "ipython",
    "version": 3
   },
   "file_extension": ".py",
   "mimetype": "text/x-python",
   "name": "python",
   "nbconvert_exporter": "python",
   "pygments_lexer": "ipython3",
   "version": "3.10.11"
  },
  "orig_nbformat": 4
 },
 "nbformat": 4,
 "nbformat_minor": 2
}
